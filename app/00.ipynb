{
 "cells": [
  {
   "cell_type": "code",
   "execution_count": 1,
   "metadata": {},
   "outputs": [],
   "source": [
    "import numpy as np"
   ]
  },
  {
   "cell_type": "markdown",
   "metadata": {},
   "source": [
    "# ndarrayの作成\n",
    "\n",
    "python配列からnumpy配列を生成する。  \n",
    "正確には配列LIKEなオブジェクトから生成可能。  \n",
    "\n",
    "多次元配列を扱うことも可能。  \n",
    "dtype引数では対象となる配列の要素のデータ型を指定する。  \n",
    "\n",
    "<https://numpy.org/doc/stable/user/absolute_beginners.html>"
   ]
  },
  {
   "cell_type": "code",
   "execution_count": 2,
   "metadata": {},
   "outputs": [
    {
     "name": "stdout",
     "output_type": "stream",
     "text": [
      "[ 1  2  3  4  5  6  7  8  9 10]\n",
      "[ 1.  2.  3.  4.  5.  6.  7.  8.  9. 10.]\n",
      "[[1 2 3]\n",
      " [4 5 6]\n",
      " [7 8 9]]\n"
     ]
    }
   ],
   "source": [
    "a = np.array([1, 2, 3, 4, 5, 6, 7, 8, 9, 10])\n",
    "print(a)\n",
    "\n",
    "a = np.array([1, 2, 3, 4, 5, 6, 7, 8, 9, 10], dtype=np.float64)\n",
    "print(a)\n",
    "\n",
    "a = np.array([[1, 2, 3], [4, 5, 6], [7, 8, 9]])\n",
    "print(a)"
   ]
  },
  {
   "cell_type": "markdown",
   "metadata": {},
   "source": [
    "# 簡単な初期化メソッドあり。"
   ]
  },
  {
   "cell_type": "code",
   "execution_count": 14,
   "metadata": {},
   "outputs": [
    {
     "name": "stdout",
     "output_type": "stream",
     "text": [
      "[0. 0.]\n",
      "[[0. 0. 0.]\n",
      " [0. 0. 0.]]\n",
      "[1. 1.]\n",
      "[[1. 1. 1.]\n",
      " [1. 1. 1.]]\n",
      "[1. 1.]\n",
      "[[1. 1. 1.]\n",
      " [1. 1. 1.]]\n",
      "[0 1]\n",
      "[2 3 4]\n",
      "[2 4]\n"
     ]
    }
   ],
   "source": [
    "zeros = np.zeros(2) # 1 row, 2 columns\n",
    "print(zeros)\n",
    "\n",
    "zeros = np.zeros((2, 3)) # 2 rows, 3 columns\n",
    "print(zeros)\n",
    "\n",
    "ones = np.ones(2) # 1 row 2 columns\n",
    "print(ones)\n",
    "\n",
    "ones = np.ones((2, 3)) # 2 rows, 3 columns\n",
    "print(ones)\n",
    "\n",
    "empties = np.empty(2) # 1 row, 2 columns\n",
    "print(empties)\n",
    "\n",
    "empties = np.empty((2, 3)) # 2 rows, 3 columns\n",
    "print(empties)\n",
    "\n",
    "arange = np.arange(2) # create an array with values from 0 to 2\n",
    "print(arange)\n",
    "\n",
    "arange = np.arange(2, 5) # create an array with values from 2 to 5\n",
    "print(arange)\n",
    "\n",
    "arange = np.arange(2, 5, 2) # create an array with values from 2 to 5 with step 2\n",
    "print(arange)"
   ]
  },
  {
   "cell_type": "markdown",
   "metadata": {},
   "source": [
    "# 要素へのアクセスは普通"
   ]
  },
  {
   "cell_type": "code",
   "execution_count": 15,
   "metadata": {},
   "outputs": [
    {
     "name": "stdout",
     "output_type": "stream",
     "text": [
      "1\n",
      "2\n",
      "10\n",
      "9\n"
     ]
    }
   ],
   "source": [
    "a = np.array([1, 2, 3, 4, 5, 6, 7, 8, 9, 10])\n",
    "print(a[0]) # get the first element\n",
    "print(a[1]) # get the second element\n",
    "print(a[-1]) # get the last element\n",
    "print(a[-2]) # get the second last element"
   ]
  },
  {
   "cell_type": "markdown",
   "metadata": {},
   "source": [
    "# 多次元配列のそのまま"
   ]
  },
  {
   "cell_type": "code",
   "execution_count": 17,
   "metadata": {},
   "outputs": [
    {
     "name": "stdout",
     "output_type": "stream",
     "text": [
      "1\n",
      "2\n",
      "3\n",
      "4\n",
      "5\n",
      "6\n",
      "7\n",
      "8\n",
      "9\n"
     ]
    }
   ],
   "source": [
    "a = np.array([[1, 2, 3], [4, 5, 6], [7, 8, 9]])\n",
    "\n",
    "print(a[0, 0]) # get the first element of the first row\n",
    "print(a[0, 1]) # get the second element of the first row\n",
    "print(a[0, 2]) # get the third element of the first row\n",
    "print(a[1, 0]) # get the first element of the second row\n",
    "print(a[1, 1]) # get the second element of the second row\n",
    "print(a[1, 2]) # get the third element of the second row\n",
    "print(a[2, 0]) # get the first element of the third row\n",
    "print(a[2, 1]) # get the second element of the third row\n",
    "print(a[2, 2]) # get the third element of the third row"
   ]
  },
  {
   "cell_type": "markdown",
   "metadata": {},
   "source": [
    "# コロンを使用して範囲を指定できる"
   ]
  },
  {
   "cell_type": "code",
   "execution_count": 20,
   "metadata": {},
   "outputs": [
    {
     "name": "stdout",
     "output_type": "stream",
     "text": [
      "[1 2]\n",
      "[1 2]\n",
      "[1 4]\n",
      "[[1 2]\n",
      " [4 5]]\n"
     ]
    }
   ],
   "source": [
    "a = np.array([1, 2, 3, 4, 5, 6, 7, 8, 9, 10])\n",
    "print(a[0:2]) # get the first two elements\n",
    "\n",
    "a = np.array([[1, 2, 3], [4, 5, 6], [7, 8, 9]])\n",
    "print(a[0, 0:2]) # get the first two elements of the first row\n",
    "print(a[0:2, 0]) # get the first two elements of the first column\n",
    "\n",
    "a = np.array([[1, 2, 3], [4, 5, 6], [7, 8, 9]])\n",
    "print(a[0:2, 0:2]) # get the first two rows and first two columns"
   ]
  },
  {
   "cell_type": "markdown",
   "metadata": {},
   "source": [
    "# 通常の演算子が使用可能"
   ]
  },
  {
   "cell_type": "code",
   "execution_count": 21,
   "metadata": {},
   "outputs": [
    {
     "name": "stdout",
     "output_type": "stream",
     "text": [
      "[ 2  3  4  5  6  7  8  9 10 11]\n",
      "[0 1 2 3 4 5 6 7 8 9]\n",
      "[ 2  4  6  8 10 12 14 16 18 20]\n",
      "[0.5 1.  1.5 2.  2.5 3.  3.5 4.  4.5 5. ]\n",
      "[  1   4   9  16  25  36  49  64  81 100]\n"
     ]
    }
   ],
   "source": [
    "a = np.array([1, 2, 3, 4, 5, 6, 7, 8, 9, 10])\n",
    "\n",
    "print(a + 1) # add 1 to each element\n",
    "print(a - 1) # subtract 1 from each element\n",
    "print(a * 2) # multiply each element by 2\n",
    "print(a / 2) # divide each element by 2\n",
    "print(a ** 2) # square each element"
   ]
  },
  {
   "cell_type": "markdown",
   "metadata": {},
   "source": [
    "# 多次元配列でもOK!"
   ]
  },
  {
   "cell_type": "code",
   "execution_count": 22,
   "metadata": {},
   "outputs": [
    {
     "name": "stdout",
     "output_type": "stream",
     "text": [
      "[[ 2  3  4]\n",
      " [ 5  6  7]\n",
      " [ 8  9 10]]\n",
      "[[0 1 2]\n",
      " [3 4 5]\n",
      " [6 7 8]]\n",
      "[[ 2  4  6]\n",
      " [ 8 10 12]\n",
      " [14 16 18]]\n",
      "[[0.5 1.  1.5]\n",
      " [2.  2.5 3. ]\n",
      " [3.5 4.  4.5]]\n",
      "[[ 1  4  9]\n",
      " [16 25 36]\n",
      " [49 64 81]]\n"
     ]
    }
   ],
   "source": [
    "a = np.array([[1, 2, 3], [4, 5, 6], [7, 8, 9]])\n",
    "\n",
    "print(a + 1) # add 1 to each element\n",
    "print(a - 1) # subtract 1 from each element\n",
    "print(a * 2) # multiply each element by 2\n",
    "print(a / 2) # divide each element by 2\n",
    "print(a ** 2) # square each element"
   ]
  },
  {
   "cell_type": "markdown",
   "metadata": {},
   "source": [
    "# 配列同士の演算"
   ]
  },
  {
   "cell_type": "code",
   "execution_count": 23,
   "metadata": {},
   "outputs": [
    {
     "name": "stdout",
     "output_type": "stream",
     "text": [
      "[ 4  6  8 10 12 14 16 18 20 22]\n",
      "[-2 -2 -2 -2 -2 -2 -2 -2 -2 -2]\n",
      "[  3   8  15  24  35  48  63  80  99 120]\n",
      "[0.33333333 0.5        0.6        0.66666667 0.71428571 0.75\n",
      " 0.77777778 0.8        0.81818182 0.83333333]\n",
      "[            1            16           243          4096         78125\n",
      "       1679616      40353607    1073741824   31381059609 1000000000000]\n"
     ]
    }
   ],
   "source": [
    "a = np.array([1, 2, 3, 4, 5, 6, 7, 8, 9, 10])\n",
    "b = np.array([3, 4, 5, 6, 7, 8, 9, 10, 11, 12])\n",
    "\n",
    "print(a + b) # add two arrays\n",
    "print(a - b) # subtract two arrays\n",
    "print(a * b) # multiply two arrays\n",
    "print(a / b) # divide two arrays\n",
    "print(a ** b) # square two arrays"
   ]
  }
 ],
 "metadata": {
  "kernelspec": {
   "display_name": "Python 3.10.8 64-bit",
   "language": "python",
   "name": "python3"
  },
  "language_info": {
   "codemirror_mode": {
    "name": "ipython",
    "version": 3
   },
   "file_extension": ".py",
   "mimetype": "text/x-python",
   "name": "python",
   "nbconvert_exporter": "python",
   "pygments_lexer": "ipython3",
   "version": "3.10.8"
  },
  "orig_nbformat": 4,
  "vscode": {
   "interpreter": {
    "hash": "949777d72b0d2535278d3dc13498b2535136f6dfe0678499012e853ee9abcab1"
   }
  }
 },
 "nbformat": 4,
 "nbformat_minor": 2
}
