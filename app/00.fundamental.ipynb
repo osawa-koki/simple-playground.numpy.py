{
 "cells": [
  {
   "cell_type": "code",
   "execution_count": 1,
   "metadata": {},
   "outputs": [],
   "source": [
    "import numpy as np"
   ]
  },
  {
   "cell_type": "markdown",
   "metadata": {},
   "source": [
    "# ndarrayの作成\n",
    "\n",
    "python配列からnumpy配列を生成する。  \n",
    "正確には配列LIKEなオブジェクトから生成可能。  \n",
    "\n",
    "多次元配列を扱うことも可能。  \n",
    "dtype引数では対象となる配列の要素のデータ型を指定する。  \n",
    "\n",
    "<https://numpy.org/doc/stable/user/absolute_beginners.html>"
   ]
  },
  {
   "cell_type": "code",
   "execution_count": 2,
   "metadata": {},
   "outputs": [
    {
     "name": "stdout",
     "output_type": "stream",
     "text": [
      "[ 1  2  3  4  5  6  7  8  9 10]\n",
      "[ 1.  2.  3.  4.  5.  6.  7.  8.  9. 10.]\n",
      "[[1 2 3]\n",
      " [4 5 6]\n",
      " [7 8 9]]\n"
     ]
    }
   ],
   "source": [
    "a = np.array([1, 2, 3, 4, 5, 6, 7, 8, 9, 10])\n",
    "print(a)\n",
    "\n",
    "a = np.array([1, 2, 3, 4, 5, 6, 7, 8, 9, 10], dtype=np.float64)\n",
    "print(a)\n",
    "\n",
    "a = np.array([[1, 2, 3], [4, 5, 6], [7, 8, 9]])\n",
    "print(a)"
   ]
  },
  {
   "cell_type": "markdown",
   "metadata": {},
   "source": [
    "# 簡単な初期化メソッドあり。"
   ]
  },
  {
   "cell_type": "code",
   "execution_count": 14,
   "metadata": {},
   "outputs": [
    {
     "name": "stdout",
     "output_type": "stream",
     "text": [
      "[0. 0.]\n",
      "[[0. 0. 0.]\n",
      " [0. 0. 0.]]\n",
      "[1. 1.]\n",
      "[[1. 1. 1.]\n",
      " [1. 1. 1.]]\n",
      "[1. 1.]\n",
      "[[1. 1. 1.]\n",
      " [1. 1. 1.]]\n",
      "[0 1]\n",
      "[2 3 4]\n",
      "[2 4]\n"
     ]
    }
   ],
   "source": [
    "zeros = np.zeros(2) # 1 row, 2 columns\n",
    "print(zeros)\n",
    "\n",
    "zeros = np.zeros((2, 3)) # 2 rows, 3 columns\n",
    "print(zeros)\n",
    "\n",
    "ones = np.ones(2) # 1 row 2 columns\n",
    "print(ones)\n",
    "\n",
    "ones = np.ones((2, 3)) # 2 rows, 3 columns\n",
    "print(ones)\n",
    "\n",
    "empties = np.empty(2) # 1 row, 2 columns\n",
    "print(empties)\n",
    "\n",
    "empties = np.empty((2, 3)) # 2 rows, 3 columns\n",
    "print(empties)\n",
    "\n",
    "arange = np.arange(2) # create an array with values from 0 to 2\n",
    "print(arange)\n",
    "\n",
    "arange = np.arange(2, 5) # create an array with values from 2 to 5\n",
    "print(arange)\n",
    "\n",
    "arange = np.arange(2, 5, 2) # create an array with values from 2 to 5 with step 2\n",
    "print(arange)"
   ]
  },
  {
   "cell_type": "markdown",
   "metadata": {},
   "source": []
  }
 ],
 "metadata": {
  "kernelspec": {
   "display_name": "Python 3.10.8 64-bit",
   "language": "python",
   "name": "python3"
  },
  "language_info": {
   "codemirror_mode": {
    "name": "ipython",
    "version": 3
   },
   "file_extension": ".py",
   "mimetype": "text/x-python",
   "name": "python",
   "nbconvert_exporter": "python",
   "pygments_lexer": "ipython3",
   "version": "3.10.8"
  },
  "orig_nbformat": 4,
  "vscode": {
   "interpreter": {
    "hash": "949777d72b0d2535278d3dc13498b2535136f6dfe0678499012e853ee9abcab1"
   }
  }
 },
 "nbformat": 4,
 "nbformat_minor": 2
}
